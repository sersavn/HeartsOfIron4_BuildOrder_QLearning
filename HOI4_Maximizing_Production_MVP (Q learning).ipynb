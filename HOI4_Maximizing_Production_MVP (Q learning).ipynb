{
 "cells": [
  {
   "cell_type": "markdown",
   "metadata": {},
   "source": [
    "# 1. The question:"
   ]
  },
  {
   "cell_type": "markdown",
   "metadata": {},
   "source": [
    "How to build HOI4 factories in order to maximize military factories output prior to input year?\n",
    "\n",
    "Well it is possible to start with building only the military factories and seems like it will be optimal for 3-12 months. But what if we want to ensure that our build order will be optimal to produce maximum amount of military equipment on year 1940 for example?"
   ]
  },
  {
   "cell_type": "markdown",
   "metadata": {},
   "source": [
    "## 1.1 Q-learning\n",
    "\n",
    "Q-learning - renforecemnt learning algorithm that seeks to find the best action to take given the current state.  \n",
    "Off-policy bcs the q-learning function learns from actions that are outside the current policy, like taking random actions -> policy isn't needed.  \n",
    "Q-learning seeks to learn a policy that maximizes the total reward."
   ]
  },
  {
   "cell_type": "markdown",
   "metadata": {},
   "source": [
    "## 1.2 What is Q?\n",
    "Q stands for quality, seems like its all. Quite abstract number."
   ]
  },
  {
   "cell_type": "markdown",
   "metadata": {},
   "source": [
    "## 1.3 Q-table\n",
    "When q-learning is performed q-table is created. Q-table is a matrix with shape of [state, action] and we initialize our values to zero. Then we update and store our q-values after an episode. This q-table becomes a reference table for our agent to select the best action based on the q-value."
   ]
  },
  {
   "cell_type": "markdown",
   "metadata": {},
   "source": [
    "## 1.4 Q-learning and making updates\n",
    "The next step is to interact with the environment and make updates to the state action pairs in our q-table.\n",
    "\n",
    "### Taking action: explore or exploit\n",
    "\n",
    "An agent interacts with the enviroment in 1 of 2 ways. \n",
    "1. The first is to use the q-table as reference and view all possible actions for a given state. The agent then selects the action based on the max value of those actions. This is known as exploiting since we use the information we have available to us to make a decision.\n",
    "2. The second way is to take act randomly. This is called exploring. Instead of selecting actions based on the max reward we select an action at random. Acting randomly is important because it allows the agent to explore and discover new states that otherwise may not be selected during the exploration process.\n",
    "\n",
    "It is possible to balance exploration/exploitation using $\\varepsilon$. Percent that would be used for exploration can be set in following way:\n",
    "```\n",
    "import random\n",
    "epsilon = 0.2\n",
    "if random.uniform(0, 1) < epsilon:\n",
    "    #Explore: select a random action\n",
    "else:\n",
    "    #Exploit: select the action with max value (future reward)\n",
    "```\n",
    "### Updating the q-table\n",
    "\n",
    "The updates occur after each step or action and ends when an episode is done. Done in this case means reaching some terminal point by the agent. A terminal state for example can be anything like landing on a checkout page, reaching the end of some game, completing desired objective, etc. The agent will not learn much after a single episode but eventually with enough exploring it will converge and learn the optimal q-valuer or q-star (Q*)\n",
    "\n",
    "Here are the 3 basic steps:\n",
    "1. Agent starts in a state (s1) takes an action (a1) and receives a reward (r1)\n",
    "2. Agent selects action by referencing Q-table with highest value (max) OR by random (epsilon, ε)\n",
    "3. Update q-values\n",
    "\n",
    "```\n",
    "Q[state, action] = Q[state, action] + lr * (reward + gamma * np.max(Q[new_state, :]) — Q[state, action])\n",
    "```\n",
    "`Learning Rate`: lr or learning rate, often referred to as alpha or α, can simply be defined as how much you accept the new value vs the old value. Above we are taking the difference between new and old and then multiplying that value by the learning rate. This value then gets added to our previous q-value which essentially moves it in the direction of our latest update.\n",
    "\n",
    "`Gamma`: gamma or γ is a discount factor. It’s used to balance immediate and future reward. From our update rule above you can see that we apply the discount to the future reward. Typically this value can range anywhere from 0.8 to 0.99.\n",
    "\n",
    "`Reward`: reward is the value received after completing a certain action at a given state. A reward can happen at any given time step or only at the terminal time step.\n",
    "\n",
    "`Max`: np.max() uses the numpy library and is taking the maximum of the future reward and applying it to the reward for the current state. What this does is impact the current action by the possible future reward. This is the beauty of q-learning. We’re allocating future reward to current actions to help the agent select the highest return action at any given state.\n",
    "\n",
    "`Discount` is a measure of how much we want to care about FUTURE reward rather than immediate reward. Typically, this value will be fairly high, and is between 0 and 1. We want it high because the purpose of Q Learning is indeed to learn a chain of events that ends with a positive outcome, so it's only natural that we put greater importance on long terms gains rather than short term ones."
   ]
  },
  {
   "cell_type": "markdown",
   "metadata": {},
   "source": [
    "# 2. Initial Data"
   ]
  },
  {
   "cell_type": "code",
   "execution_count": 1,
   "metadata": {},
   "outputs": [],
   "source": [
    "import pandas as pd\n",
    "import datetime\n",
    "#import random\n",
    "import numpy as np"
   ]
  },
  {
   "cell_type": "code",
   "execution_count": 2,
   "metadata": {},
   "outputs": [],
   "source": [
    "start_date = datetime.date(1936, 1, 1)\n",
    "end_date = datetime.date(1939, 1, 1)\n",
    "df_ini_germany_manufacture_stats = pd.read_excel('Germany.xlsx').fillna(0).set_index('Region')\n",
    "df_germany_manufacture_stats = df_ini_germany_manufacture_stats.copy()"
   ]
  },
  {
   "cell_type": "markdown",
   "metadata": {},
   "source": [
    "## 2.1 CountryStats class\n",
    "\n",
    "used to store & update economics of the country:\n",
    "- start_date (game start date)\n",
    "- curr_date (current ingame date)\n",
    "- curr_mil_production (current ingame military factories production in 🔨)\n",
    "- curr_civ_production (current ingame civilian factories production in 🔨)\n",
    "- cumulative_mil_production (total military 🔨 produced on current moment of time)\n",
    "- cumulative_civ_production (total civilian 🔨 produced on current moment of time)\n",
    "\n",
    "todo:\n",
    "- dockyards are not taken into account (yet)\n",
    "- factory conversion is not taken into account (yet)\n",
    "\n"
   ]
  },
  {
   "cell_type": "code",
   "execution_count": 3,
   "metadata": {},
   "outputs": [],
   "source": [
    "class CountryStats:\n",
    "    '''\n",
    "    Needed to input initial parameters of the country economy (amount of factories & infrastracture)\n",
    "    '''\n",
    "    def __init__(self, country_name, df_manufacture_stats):\n",
    "        self.country_name = country_name\n",
    "        self.manufacture_stats = df_manufacture_stats.copy()\n",
    "        self.start_date = datetime.date(1936, 1, 1)\n",
    "        self.curr_date = self.start_date\n",
    "        self._update_curr_production()\n",
    "        self.cum_mil_production = 0\n",
    "        self.cum_civ_production = 0\n",
    "\n",
    "    def _update_curr_production(self):\n",
    "        self.curr_mil_production = self.manufacture_stats['Military factories'].sum()*5\n",
    "        self.curr_civ_production = self.manufacture_stats['Civilian factories'].sum()*5\n",
    "        \n",
    "    def daily_update(self):\n",
    "        self.cum_civ_production += self.curr_civ_production\n",
    "        self.cum_mil_production += self.curr_mil_production\n",
    "        self.curr_date += datetime.timedelta(days = 1)\n",
    "        \n",
    "    def get_manufacture_stats(self):\n",
    "        return self.manufacture_stats\n",
    "    \n",
    "    def reset(self, df_manufacture_stats):\n",
    "        self.curr_date = self.start_date\n",
    "        self.manufacture_stats = df_manufacture_stats.copy()\n",
    "        self.cum_mil_production = 0\n",
    "        self.cum_civ_production = 0"
   ]
  },
  {
   "cell_type": "markdown",
   "metadata": {},
   "source": [
    "## 2.2 Builder Class\n",
    "\n",
    "todo:\n",
    "- building query\n",
    "- pick construction region\n",
    "- add residual to the 0 \"self.curr_building_progress = 0\"\n",
    "- restrict max infrastructure to 1.0"
   ]
  },
  {
   "cell_type": "code",
   "execution_count": 4,
   "metadata": {},
   "outputs": [],
   "source": [
    "class Builder:\n",
    "    def __init__(self, country_name, CountryStats_obj):\n",
    "        self.country_name = country_name\n",
    "        self.mil_factory_cost = 7200\n",
    "        self.civ_factory_cost = 10800\n",
    "        self.infrastracture_cost = 3000    \n",
    "        self.curr_building_progress = 0\n",
    "        \n",
    "    def start_building(self, CountryStats_obj, to_build):\n",
    "        build_df = CountryStats_obj.manufacture_stats\n",
    "        build_df = build_df[build_df['Available building slots'] > 0]\n",
    "        randomizing_building_region_number = np.random.randint(0, len(build_df))\n",
    "        region_name = build_df.iloc[randomizing_building_region_number].name\n",
    "        if to_build == 0:\n",
    "            self.building_object = ['mil_factory', self.mil_factory_cost, region_name, 'Military factories']\n",
    "        if to_build == 1:\n",
    "            self.building_object = ['civ_factory', self.civ_factory_cost, region_name, 'Civilian factories']\n",
    "        elif to_build == 2:#  and infracstructure < 1\n",
    "            self.building_object = ['infrastructure', self.infrastracture_cost, region_name, 'Infrastructure']\n",
    "    \n",
    "    def building_progress_upd(self, CountryStats_obj):\n",
    "        self.curr_building_progress += CountryStats_obj.curr_civ_production/self.building_object[1]\n",
    "        \n",
    "    def complete_building(self, CountryStats_obj):\n",
    "        df = CountryStats_obj.get_manufacture_stats()\n",
    "        df.loc[self.building_object[2],self.building_object[3]] = df.loc[self.building_object[2],self.building_object[3]] + 1\n",
    "        df['Current factories'] = df['Military factories'] + df['Civilian factories'] + df['Shipyards'] + df['Fuel storage']\n",
    "        df['Available building slots'] = df['Max available building slots'] - df['Current factories']\n",
    "        CountryStats_obj.manufacture_stats = df\n",
    "        CountryStats_obj._update_curr_production()\n",
    "        \n",
    "    def control_room(self, CountryStats_obj, Qlearning_obj):\n",
    "\n",
    "        # new construction started\n",
    "        curr_date = CountryStats_obj.curr_date\n",
    "        if self.curr_building_progress == 0:\n",
    "            decision = Qlearning_obj.decision_qtable_upd(curr_date)\n",
    "            self.start_building(CountryStats_obj, decision)\n",
    "        \n",
    "        # construction completed & new construction started\n",
    "        elif self.curr_building_progress >= 1:\n",
    "            self.complete_building(CountryStats_obj)\n",
    "            self.curr_building_progress = 0\n",
    "            decision = Qlearning_obj.decision_qtable_upd(curr_date)\n",
    "            self.start_building(CountryStats_obj, decision)\n",
    "\n",
    "        CountryStats_obj.daily_update()\n",
    "        self.building_progress_upd(CountryStats_obj)\n",
    "    \n",
    "    def execute_multiple_episodes(self, CountryStats_obj, Qlearning_obj, df_germany_manufacture_stats):\n",
    "        episodes_reward = []\n",
    "        production_stats = []\n",
    "        counter_list = []\n",
    "        counter = 0\n",
    "        self.max_cum_mil_production = 0\n",
    "        for i in range(Qlearning_obj.episodes):\n",
    "            counter += 1\n",
    "            CountryStats_obj.reset(df_germany_manufacture_stats)\n",
    "            CountryStats_obj.get_manufacture_stats()\n",
    "            while CountryStats_obj.curr_date < (end_date):\n",
    "                self.control_room(CountryStats_obj, Qlearning_obj)\n",
    "            \n",
    "            # in case if the record is beaten\n",
    "            if CountryStats_obj.cum_mil_production > self.max_cum_mil_production:\n",
    "                Qlearning_obj.hand_reward_for_the_record()\n",
    "                self.max_cum_mil_production = CountryStats_obj.cum_mil_production\n",
    "                total_reward = Qlearning_obj.construction_episode_reward + Qlearning_obj.count_reward_for_the_record() * Qlearning_obj.learning_rate\n",
    "            else:\n",
    "                total_reward = Qlearning_obj.construction_episode_reward\n",
    "                \n",
    "            production_stats.append(CountryStats_obj.cum_mil_production)\n",
    "            episodes_reward.append(total_reward)\n",
    "            counter_list.append(counter)\n",
    "            Qlearning_obj.reset_episode()    \n",
    "        return [counter_list, production_stats, episodes_reward]\n",
    "            \n",
    "        "
   ]
  },
  {
   "cell_type": "markdown",
   "metadata": {},
   "source": [
    "## 2.3 CountryModifiers class\n",
    "\n",
    "- Under construction"
   ]
  },
  {
   "cell_type": "code",
   "execution_count": 5,
   "metadata": {},
   "outputs": [],
   "source": [
    "start_factories_production_buff = 1\n",
    "step_factories_production_buff = 0,2\n",
    "max_factories_production_time = [start_date + datetime.timedelta(days = (126+168*1)),\n",
    "                                 start_date + datetime.timedelta(days = (126+168*2)),\n",
    "                                 start_date + datetime.timedelta(days = (126+168*3)),\n",
    "                                 start_date + datetime.timedelta(days = (126+168*4)),\n",
    "                                 start_date + datetime.timedelta(days = (126+168*5))]\n",
    "\n",
    "start_factories_construction_buff = 1\n",
    "step_factories_production_buff = 0,1"
   ]
  },
  {
   "cell_type": "markdown",
   "metadata": {},
   "source": [
    "## 2.4 Qlearning class"
   ]
  },
  {
   "cell_type": "markdown",
   "metadata": {},
   "source": [
    "$Q^{new}(s_t, a_t) \\leftarrow (1- \\alpha) \\times Q(s_t,a_t) + \\alpha \\times (r_t + \\gamma \\times maxQ(s_{t+1},a))$\n",
    "\n",
    "- current_q = $Q(s_t,a_t)$\n",
    "- max_future_q = $ maxQ(s_{t+1},a)$\n",
    "- new_q = $Q^{new}(s_t, a_t)$"
   ]
  },
  {
   "cell_type": "code",
   "execution_count": 6,
   "metadata": {},
   "outputs": [],
   "source": [
    "class Qlearning:\n",
    "    def __init__(self):\n",
    "        self.learning_rate = 0.1\n",
    "        self.episodes = 25000 # iterations\n",
    "        self.epsilon = 0.05 # 5% for exploration\n",
    "        self.discount = 0.9\n",
    "        self.q_table = self._generate_q_table()\n",
    "        self.reward = 5\n",
    "        self.bonus_reward = 0 #50\n",
    "        self.construction_episode_reward = 0\n",
    "        self.episode_history = {}\n",
    "        \n",
    "    def _generate_q_table(self):\n",
    "        q_table = {}\n",
    "        for i in pd.date_range(start_date, end_date):\n",
    "            q_table[i.date()] = [np.random.randint(0, 3) for i in range(3)] # 0 for i in range(3) bcs only 3 buildings possible\n",
    "        return q_table \n",
    "    \n",
    "    def decision_qtable_upd(self, decision_date):\n",
    "        if np.random.random() > self.epsilon:\n",
    "            decision = np.argmax(self.q_table[decision_date]) # q-table decision\n",
    "        else:\n",
    "            decision = np.random.randint(0, 3)\n",
    "        current_q = self.q_table[decision_date][decision]\n",
    "        self.episode_history[decision_date] = [decision]\n",
    "        try:\n",
    "            max_future_q = np.max(self.q_table[decision_date+1])\n",
    "        except: # out of bonds\n",
    "            max_future_q = np.max(self.q_table[decision_date]) # to prevent out of bounds\n",
    "            \n",
    "        if decision == 0:\n",
    "            reward = self.reward\n",
    "        else:\n",
    "            reward = 0\n",
    "        \n",
    "        new_q = (1 - self.learning_rate) * current_q + self.learning_rate * (reward + self.discount * max_future_q)\n",
    "        self.construction_episode_reward += self.reward\n",
    "        self.q_table[decision_date][decision] = new_q\n",
    "        return decision\n",
    "    \n",
    "    def reset_episode(self):\n",
    "        self.construction_episode_reward = 0\n",
    "        self.episode_history = {}\n",
    "    \n",
    "    def count_reward_for_the_record(self):\n",
    "        l = len([i for i in self.episode_history.keys()])\n",
    "        res = l * self.bonus_reward\n",
    "        return res\n",
    "    \n",
    "    def hand_reward_for_the_record(self):\n",
    "        keys = [i for i in self.episode_history.keys()]\n",
    "        vals = [i for i in self.episode_history.values()]\n",
    "        for k,v in list(zip(keys,vals)):\n",
    "            self.q_table[k][v[0]] += self.bonus_reward * self.learning_rate\n",
    "\n",
    "   "
   ]
  },
  {
   "cell_type": "code",
   "execution_count": 7,
   "metadata": {},
   "outputs": [
    {
     "name": "stdout",
     "output_type": "stream",
     "text": [
      "1936-01-01\n"
     ]
    }
   ],
   "source": [
    "df_germany_manufacture_stats = df_ini_germany_manufacture_stats.copy()\n",
    "\n",
    "### Creating germany object\n",
    "germany = CountryStats('Germany', df_germany_manufacture_stats)\n",
    "print(germany.curr_date)\n",
    "\n",
    "### Creating germany builder object\n",
    "germany_builder = Builder('Germany', germany)\n",
    "\n",
    "### Creating Qlearning object\n",
    "q_learning = Qlearning()"
   ]
  },
  {
   "cell_type": "code",
   "execution_count": 8,
   "metadata": {},
   "outputs": [],
   "source": [
    "result = germany_builder.execute_multiple_episodes(germany, q_learning, df_germany_manufacture_stats)"
   ]
  },
  {
   "cell_type": "code",
   "execution_count": 20,
   "metadata": {
    "scrolled": false
   },
   "outputs": [
    {
     "data": {
      "text/plain": [
       "[Text(0,0.5,'reward'), Text(0.5,0,'episode')]"
      ]
     },
     "execution_count": 20,
     "metadata": {},
     "output_type": "execute_result"
    },
    {
     "data": {
      "image/png": "[encoded data removed]",
      "text/plain": [
       "<Figure size 864x576 with 2 Axes>"
      ]
     },
     "metadata": {
      "needs_background": "light"
     },
     "output_type": "display_data"
    }
   ],
   "source": [
    "fig, (ax1, ax2) = plt.subplots(2, sharex=True, figsize=(12, 8))\n",
    "ax1.set_title('Cumulative Military Production')\n",
    "ax2.set_title('Total_rewards')\n",
    "x1, y1 = result[0], result[1]\n",
    "x2, y2 = result[0], result[2]\n",
    "ax1.plot(x1,y1)\n",
    "ax2.plot(x2,y2)\n",
    "ax1.set(ylabel='cumulative military production (higher is better)')\n",
    "ax2.set(xlabel='episode', ylabel='reward')"
   ]
  },
  {
   "cell_type": "code",
   "execution_count": 29,
   "metadata": {},
   "outputs": [],
   "source": [
    "recommended_buildings = [np.argmax(i) for i in q_learning.q_table.values()]"
   ]
  },
  {
   "cell_type": "markdown",
   "metadata": {},
   "source": [
    "# 3. Reference Materials"
   ]
  },
  {
   "cell_type": "markdown",
   "metadata": {},
   "source": [
    "1. https://towardsdatascience.com/simple-reinforcement-learning-q-learning-fcddc4b6fe56\n",
    "2. https://pythonprogramming.net/q-learning-reinforcement-learning-python-tutorial/\n",
    "3. https://pythonprogramming.net/q-learning-algorithm-reinforcement-learning-python-tutorial/?completed=/q-learning-reinforcement-learning-python-tutorial/\n",
    "4. https://pythonprogramming.net/q-learning-analysis-reinforcement-learning-python-tutorial/?completed=/q-learning-algorithm-reinforcement-learning-python-tutorial/\n",
    "5. https://pythonprogramming.net/own-environment-q-learning-reinforcement-learning-python-tutorial/?completed=/q-learning-analysis-reinforcement-learning-python-tutorial/\n",
    "6. https://github.com/gmichaelson/GA_in_python/blob/master/GA%20example.ipynb\n",
    "7. https://en.wikipedia.org/wiki/Q-learning"
   ]
  },
  {
   "cell_type": "code",
   "execution_count": null,
   "metadata": {},
   "outputs": [],
   "source": []
  }
 ],
 "metadata": {
  "kernelspec": {
   "display_name": "Python 3",
   "language": "python",
   "name": "python3"
  },
  "language_info": {
   "codemirror_mode": {
    "name": "ipython",
    "version": 3
   },
   "file_extension": ".py",
   "mimetype": "text/x-python",
   "name": "python",
   "nbconvert_exporter": "python",
   "pygments_lexer": "ipython3",
   "version": "3.6.10"
  }
 },
 "nbformat": 4,
 "nbformat_minor": 2
}
